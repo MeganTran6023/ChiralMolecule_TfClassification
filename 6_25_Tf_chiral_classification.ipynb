{
 "cells": [
  {
   "attachments": {
    "image.png": {
     "image/png": "[encoded data removed]"
    }
   },
   "cell_type": "markdown",
   "id": "0c99cc87",
   "metadata": {
    "scrolled": true
   },
   "source": [
    "# Tensorflow for Image Classification\n",
    "\n",
    "Code referenced: [ZALCODE](https://www.kaggle.com/code/zalcode/super-simple-butterfly-image-classification#Project-Description)\n",
    "\n",
    "![image.png](attachment:image.png) \n",
    "\n",
    "Summary: Make Image Classification from Tensorflow's Model to classify between achiral and chiral molecules."
   ]
  },
  {
   "cell_type": "code",
   "execution_count": 1,
   "id": "8741f4d6",
   "metadata": {},
   "outputs": [],
   "source": [
    "# pip install tensorflow"
   ]
  },
  {
   "cell_type": "markdown",
   "id": "15dcf7e9",
   "metadata": {},
   "source": [
    "## Import modules"
   ]
  },
  {
   "cell_type": "code",
   "execution_count": 2,
   "id": "bceb2a68",
   "metadata": {},
   "outputs": [],
   "source": [
    "import matplotlib.pyplot as plt\n",
    "import numpy as np\n",
    "import PIL\n",
    "import tensorflow as tf\n",
    "\n",
    "from tensorflow import keras\n",
    "from tensorflow.keras import layers\n",
    "from tensorflow.keras.models import Sequential"
   ]
  },
  {
   "cell_type": "markdown",
   "id": "bf28bfaa",
   "metadata": {},
   "source": [
    "# 1) Dataset\n",
    "\n",
    "## Import and View Dataset"
   ]
  },
  {
   "cell_type": "code",
   "execution_count": 7,
   "id": "237686c9",
   "metadata": {
    "scrolled": true
   },
   "outputs": [
    {
     "data": {
      "text/html": [
       "<div>\n",
       "<style scoped>\n",
       "    .dataframe tbody tr th:only-of-type {\n",
       "        vertical-align: middle;\n",
       "    }\n",
       "\n",
       "    .dataframe tbody tr th {\n",
       "        vertical-align: top;\n",
       "    }\n",
       "\n",
       "    .dataframe thead th {\n",
       "        text-align: right;\n",
       "    }\n",
       "</style>\n",
       "<table border=\"1\" class=\"dataframe\">\n",
       "  <thead>\n",
       "    <tr style=\"text-align: right;\">\n",
       "      <th></th>\n",
       "      <th>file_name</th>\n",
       "      <th>label</th>\n",
       "    </tr>\n",
       "  </thead>\n",
       "  <tbody>\n",
       "    <tr>\n",
       "      <th>0</th>\n",
       "      <td>image_1.PNG</td>\n",
       "      <td>achiral</td>\n",
       "    </tr>\n",
       "    <tr>\n",
       "      <th>1</th>\n",
       "      <td>image_2.PNG</td>\n",
       "      <td>achiral</td>\n",
       "    </tr>\n",
       "    <tr>\n",
       "      <th>2</th>\n",
       "      <td>image_3.PNG</td>\n",
       "      <td>chiral</td>\n",
       "    </tr>\n",
       "    <tr>\n",
       "      <th>3</th>\n",
       "      <td>image_4.PNG</td>\n",
       "      <td>chiral</td>\n",
       "    </tr>\n",
       "    <tr>\n",
       "      <th>4</th>\n",
       "      <td>image_5.PNG</td>\n",
       "      <td>chiral</td>\n",
       "    </tr>\n",
       "    <tr>\n",
       "      <th>5</th>\n",
       "      <td>image_6.PNG</td>\n",
       "      <td>achiral</td>\n",
       "    </tr>\n",
       "    <tr>\n",
       "      <th>6</th>\n",
       "      <td>image_7.PNG</td>\n",
       "      <td>achiral</td>\n",
       "    </tr>\n",
       "    <tr>\n",
       "      <th>7</th>\n",
       "      <td>image_8.PNG</td>\n",
       "      <td>achiral</td>\n",
       "    </tr>\n",
       "    <tr>\n",
       "      <th>8</th>\n",
       "      <td>image_9.PNG</td>\n",
       "      <td>chiral</td>\n",
       "    </tr>\n",
       "    <tr>\n",
       "      <th>9</th>\n",
       "      <td>image_10.PNG</td>\n",
       "      <td>achiral</td>\n",
       "    </tr>\n",
       "  </tbody>\n",
       "</table>\n",
       "</div>"
      ],
      "text/plain": [
       "      file_name    label\n",
       "0   image_1.PNG  achiral\n",
       "1   image_2.PNG  achiral\n",
       "2   image_3.PNG   chiral\n",
       "3   image_4.PNG   chiral\n",
       "4   image_5.PNG   chiral\n",
       "5   image_6.PNG  achiral\n",
       "6   image_7.PNG  achiral\n",
       "7   image_8.PNG  achiral\n",
       "8   image_9.PNG   chiral\n",
       "9  image_10.PNG  achiral"
      ]
     },
     "execution_count": 7,
     "metadata": {},
     "output_type": "execute_result"
    }
   ],
   "source": [
    "import pandas as pd\n",
    "\n",
    "df_molecules = pd.read_csv(\"C:/Users/journ/Desktop/sandbox/Tf_molecules_6_24/tf_classify_6_25.csv\")\n",
    "df_molecules"
   ]
  },
  {
   "cell_type": "code",
   "execution_count": 8,
   "id": "20416e66",
   "metadata": {},
   "outputs": [
    {
     "data": {
      "text/html": [
       "<div>\n",
       "<style scoped>\n",
       "    .dataframe tbody tr th:only-of-type {\n",
       "        vertical-align: middle;\n",
       "    }\n",
       "\n",
       "    .dataframe tbody tr th {\n",
       "        vertical-align: top;\n",
       "    }\n",
       "\n",
       "    .dataframe thead th {\n",
       "        text-align: right;\n",
       "    }\n",
       "</style>\n",
       "<table border=\"1\" class=\"dataframe\">\n",
       "  <thead>\n",
       "    <tr style=\"text-align: right;\">\n",
       "      <th></th>\n",
       "      <th>file_name</th>\n",
       "      <th>label</th>\n",
       "      <th>path</th>\n",
       "    </tr>\n",
       "  </thead>\n",
       "  <tbody>\n",
       "    <tr>\n",
       "      <th>0</th>\n",
       "      <td>image_1.PNG</td>\n",
       "      <td>achiral</td>\n",
       "      <td>C:/Users/journ/Desktop/sandbox/Tf_molecules_6_...</td>\n",
       "    </tr>\n",
       "    <tr>\n",
       "      <th>1</th>\n",
       "      <td>image_2.PNG</td>\n",
       "      <td>achiral</td>\n",
       "      <td>C:/Users/journ/Desktop/sandbox/Tf_molecules_6_...</td>\n",
       "    </tr>\n",
       "    <tr>\n",
       "      <th>2</th>\n",
       "      <td>image_3.PNG</td>\n",
       "      <td>chiral</td>\n",
       "      <td>C:/Users/journ/Desktop/sandbox/Tf_molecules_6_...</td>\n",
       "    </tr>\n",
       "    <tr>\n",
       "      <th>3</th>\n",
       "      <td>image_4.PNG</td>\n",
       "      <td>chiral</td>\n",
       "      <td>C:/Users/journ/Desktop/sandbox/Tf_molecules_6_...</td>\n",
       "    </tr>\n",
       "    <tr>\n",
       "      <th>4</th>\n",
       "      <td>image_5.PNG</td>\n",
       "      <td>chiral</td>\n",
       "      <td>C:/Users/journ/Desktop/sandbox/Tf_molecules_6_...</td>\n",
       "    </tr>\n",
       "    <tr>\n",
       "      <th>5</th>\n",
       "      <td>image_6.PNG</td>\n",
       "      <td>achiral</td>\n",
       "      <td>C:/Users/journ/Desktop/sandbox/Tf_molecules_6_...</td>\n",
       "    </tr>\n",
       "    <tr>\n",
       "      <th>6</th>\n",
       "      <td>image_7.PNG</td>\n",
       "      <td>achiral</td>\n",
       "      <td>C:/Users/journ/Desktop/sandbox/Tf_molecules_6_...</td>\n",
       "    </tr>\n",
       "    <tr>\n",
       "      <th>7</th>\n",
       "      <td>image_8.PNG</td>\n",
       "      <td>achiral</td>\n",
       "      <td>C:/Users/journ/Desktop/sandbox/Tf_molecules_6_...</td>\n",
       "    </tr>\n",
       "    <tr>\n",
       "      <th>8</th>\n",
       "      <td>image_9.PNG</td>\n",
       "      <td>chiral</td>\n",
       "      <td>C:/Users/journ/Desktop/sandbox/Tf_molecules_6_...</td>\n",
       "    </tr>\n",
       "    <tr>\n",
       "      <th>9</th>\n",
       "      <td>image_10.PNG</td>\n",
       "      <td>achiral</td>\n",
       "      <td>C:/Users/journ/Desktop/sandbox/Tf_molecules_6_...</td>\n",
       "    </tr>\n",
       "  </tbody>\n",
       "</table>\n",
       "</div>"
      ],
      "text/plain": [
       "      file_name    label                                               path\n",
       "0   image_1.PNG  achiral  C:/Users/journ/Desktop/sandbox/Tf_molecules_6_...\n",
       "1   image_2.PNG  achiral  C:/Users/journ/Desktop/sandbox/Tf_molecules_6_...\n",
       "2   image_3.PNG   chiral  C:/Users/journ/Desktop/sandbox/Tf_molecules_6_...\n",
       "3   image_4.PNG   chiral  C:/Users/journ/Desktop/sandbox/Tf_molecules_6_...\n",
       "4   image_5.PNG   chiral  C:/Users/journ/Desktop/sandbox/Tf_molecules_6_...\n",
       "5   image_6.PNG  achiral  C:/Users/journ/Desktop/sandbox/Tf_molecules_6_...\n",
       "6   image_7.PNG  achiral  C:/Users/journ/Desktop/sandbox/Tf_molecules_6_...\n",
       "7   image_8.PNG  achiral  C:/Users/journ/Desktop/sandbox/Tf_molecules_6_...\n",
       "8   image_9.PNG   chiral  C:/Users/journ/Desktop/sandbox/Tf_molecules_6_...\n",
       "9  image_10.PNG  achiral  C:/Users/journ/Desktop/sandbox/Tf_molecules_6_..."
      ]
     },
     "execution_count": 8,
     "metadata": {},
     "output_type": "execute_result"
    }
   ],
   "source": [
    "df_molecules['path'] = 'C:/Users/journ/Desktop/sandbox/Tf_molecules_6_24/train/' + df_molecules['file_name']\n",
    "df_molecules"
   ]
  },
  {
   "cell_type": "code",
   "execution_count": 9,
   "id": "05b9d6b1",
   "metadata": {},
   "outputs": [
    {
     "name": "stdout",
     "output_type": "stream",
     "text": [
      "<class 'pandas.core.frame.DataFrame'>\n",
      "RangeIndex: 10 entries, 0 to 9\n",
      "Data columns (total 3 columns):\n",
      " #   Column     Non-Null Count  Dtype \n",
      "---  ------     --------------  ----- \n",
      " 0   file_name  10 non-null     object\n",
      " 1   label      10 non-null     object\n",
      " 2   path       10 non-null     object\n",
      "dtypes: object(3)\n",
      "memory usage: 368.0+ bytes\n"
     ]
    }
   ],
   "source": [
    "df_molecules.info()"
   ]
  },
  {
   "cell_type": "code",
   "execution_count": 16,
   "id": "2fa62421",
   "metadata": {
    "scrolled": false
   },
   "outputs": [
    {
     "data": {
      "image/png": "[encoded data removed]",
      "text/plain": [
       "<Figure size 600x500 with 1 Axes>"
      ]
     },
     "metadata": {},
     "output_type": "display_data"
    }
   ],
   "source": [
    "# Although I already know the dataset, it is good practice to see distribution of items per classificaiton\n",
    "\n",
    "# Assuming the first column contains the labels (good or bad)\n",
    "labels = df_molecules.iloc[:, 1]\n",
    "\n",
    "# Count the number of \"good\" and \"bad\" fruits\n",
    "n_chiral = (labels == \"chiral\").sum()\n",
    "n_achiral = (labels == \"achiral\").sum()\n",
    "\n",
    "# Create a list for categories\n",
    "categories = [\"chiral\", \"achiral\"]\n",
    "\n",
    "# Create a list for counts\n",
    "counts = [n_chiral, n_achiral]\n",
    "\n",
    "# Create the bar chart\n",
    "plt.figure(figsize=(6, 5)) \n",
    "plt.bar(categories, counts, color=['skyblue', 'lightpink'])  \n",
    "plt.xlabel(\"Label\")\n",
    "plt.ylabel(\"Number of Chiral/Achiral\")\n",
    "plt.title(\"Number of Chiral and Achirals in Dataset\")\n",
    "plt.xticks(rotation=0)  \n",
    "plt.tight_layout()\n",
    "\n",
    "\n",
    "plt.show()"
   ]
  },
  {
   "cell_type": "code",
   "execution_count": 17,
   "id": "459250f5",
   "metadata": {},
   "outputs": [
    {
     "data": {
      "text/plain": [
       "<matplotlib.image.AxesImage at 0x213869969e0>"
      ]
     },
     "execution_count": 17,
     "metadata": {},
     "output_type": "execute_result"
    },
    {
     "data": {
      "image/png": "[encoded data removed]",
      "text/plain": [
       "<Figure size 640x480 with 1 Axes>"
      ]
     },
     "metadata": {},
     "output_type": "display_data"
    }
   ],
   "source": [
    "#show first image\n",
    "from tensorflow.keras.preprocessing import image\n",
    "\n",
    "myImage = image.load_img(r\"C:/Users/journ/Desktop/sandbox/Tf_molecules_6_24/train/image_1.PNG\")\n",
    "plt.imshow(myImage)"
   ]
  },
  {
   "cell_type": "markdown",
   "id": "a8cfdc1b",
   "metadata": {},
   "source": [
    "## Split csv Dataset Train-Test\n",
    "\n",
    "80:20 is default. This means 80% of the total datapoints is used to teach the model which belongs in what and 20% of the dataset not including the used 80% is used to test how well the model can classify each image to their labels.\n",
    "\n",
    "In this case, 50:50 will be used to determine how well the model performs under such unideal conditions."
   ]
  },
  {
   "cell_type": "code",
   "execution_count": 18,
   "id": "821bda04",
   "metadata": {},
   "outputs": [
    {
     "name": "stdout",
     "output_type": "stream",
     "text": [
      "50:50 split used.\n"
     ]
    }
   ],
   "source": [
    "from sklearn.model_selection import train_test_split\n",
    "\n",
    "train_data, validation_data = train_test_split(df_molecules, test_size=0.5, random_state=42)\n",
    "print(\"50:50 split used.\")"
   ]
  },
  {
   "cell_type": "markdown",
   "id": "c0c4bda8",
   "metadata": {},
   "source": [
    "## Function for Data Preparation\n",
    "\n",
    "Rescale 1/255 -> allows CNN to process images pixels on scale 0 - 1\n",
    "\n",
    "Batch_size -> how many items to bunch together when running it through model for training\n",
    "* I chose 1 to test how accurate the model would predict images labels since this learns images one by one. However, this utilizes a high level of computational cost.\n",
    "\n",
    "class_mode -> how to label the images (binary 0/1 or as strings)"
   ]
  },
  {
   "cell_type": "code",
   "execution_count": 53,
   "id": "795677a4",
   "metadata": {},
   "outputs": [],
   "source": [
    "def prep_data(train_data, validation_data, batch_size=1):\n",
    "    # Create ImageDataGenerator for training set\n",
    "    train_datagen = ImageDataGenerator(rescale=1.0 / 255.0)\n",
    "    train_set = train_datagen.flow_from_dataframe(\n",
    "        dataframe=train_data,\n",
    "        x_col='path',\n",
    "        y_col='label',\n",
    "        target_size=(128, 128),\n",
    "        batch_size=batch_size,\n",
    "        class_mode='sparse')\n",
    "\n",
    "    # Create ImageDataGenerator for validation set\n",
    "    validation_datagen = ImageDataGenerator(rescale=1.0 / 255.0)\n",
    "    validation_set = validation_datagen.flow_from_dataframe(\n",
    "        dataframe=validation_data,\n",
    "        x_col='path',\n",
    "        y_col='label',\n",
    "        target_size=(128, 128),\n",
    "        batch_size=batch_size,\n",
    "        class_mode='sparse')\n",
    "\n",
    "    return train_set, validation_set"
   ]
  },
  {
   "cell_type": "markdown",
   "id": "8a04f1f7",
   "metadata": {},
   "source": [
    "## Function for Learning Visualization\n",
    "\n",
    "This will out put two line graphs, the former being the acccuracy graph with training and validation datasets and the latter being the loss with training and validation datasets. This graphs points for each succesive epoch completed. "
   ]
  },
  {
   "cell_type": "code",
   "execution_count": 54,
   "id": "db7ce315",
   "metadata": {},
   "outputs": [],
   "source": [
    "# visulization function for Models\n",
    "def visualize(history):\n",
    "    acc = history.history['accuracy']\n",
    "    val_acc = history.history['val_accuracy']\n",
    "    loss = history.history['loss']\n",
    "    val_loss = history.history['val_loss']\n",
    "    epochs = range(1, len(acc) + 1)\n",
    "    \n",
    "    fig, axs = plt.subplots(1, 2, figsize=(12, 5))\n",
    "    \n",
    "    axs[0].plot(epochs, acc, 'r', label='Training acc')\n",
    "    axs[0].plot(epochs, val_acc, 'b', label='Validation acc')\n",
    "    axs[0].set_title('Training and validation accuracy')\n",
    "    axs[0].legend()\n",
    "    axs[0].grid(True)\n",
    "    \n",
    "    axs[1].plot(epochs, loss, 'r', label='Training loss')\n",
    "    axs[1].plot(epochs, val_loss, 'b', label='Validation loss')\n",
    "    axs[1].set_title('Training and validation loss')\n",
    "    axs[1].legend()\n",
    "    axs[1].grid(True)\n",
    "    \n",
    "    plt.tight_layout()\n",
    "    plt.show()"
   ]
  },
  {
   "cell_type": "markdown",
   "id": "de456bf6",
   "metadata": {},
   "source": [
    "## Visualizing the data \n",
    "\n",
    "Only one can be shown since i set batch_size = 1"
   ]
  },
  {
   "cell_type": "code",
   "execution_count": 55,
   "id": "a471a5c6",
   "metadata": {},
   "outputs": [
    {
     "name": "stdout",
     "output_type": "stream",
     "text": [
      "Found 5 validated image filenames belonging to 2 classes.\n",
      "Found 5 validated image filenames belonging to 2 classes.\n"
     ]
    }
   ],
   "source": [
    "from tensorflow.keras.preprocessing.image import ImageDataGenerator\n",
    "\n",
    "train_set, validation_set = prep_data(train_data, validation_data)\n",
    "\n",
    "# Accessing the data\n",
    "images, labels = next(train_set)\n",
    "\n",
    "# Retrieving class names\n",
    "class_names = train_set.class_indices\n",
    "class_names = {v: k for k, v in class_names.items()}"
   ]
  },
  {
   "cell_type": "code",
   "execution_count": 56,
   "id": "00bd6eff",
   "metadata": {},
   "outputs": [
    {
     "data": {
      "text/plain": [
       "<keras.src.legacy.preprocessing.image.DataFrameIterator at 0x2138b12e290>"
      ]
     },
     "execution_count": 56,
     "metadata": {},
     "output_type": "execute_result"
    }
   ],
   "source": [
    "train_set"
   ]
  },
  {
   "cell_type": "code",
   "execution_count": 61,
   "id": "3e57c687",
   "metadata": {},
   "outputs": [
    {
     "data": {
      "image/png": "[encoded data removed]",
      "text/plain": [
       "<Figure size 750x500 with 1 Axes>"
      ]
     },
     "metadata": {},
     "output_type": "display_data"
    }
   ],
   "source": [
    "# Create a figure with one subplot (1 row, 1 column)\n",
    "fig, ax = plt.subplots(1, 1, figsize=(7.5, 5))  # Adjust figsize as needed\n",
    "\n",
    "# Choose which image and label to display (modify index if needed)\n",
    "index_to_show = 0  # Change this to select a different image (0 or 1)\n",
    "\n",
    "# Display the image on the subplot\n",
    "ax.imshow(images[index_to_show])\n",
    "\n",
    "# Get the class name and set the subplot title\n",
    "label_index = int(labels[index_to_show])\n",
    "class_name = class_names[label_index]\n",
    "ax.set_title(f\"{class_name}\")\n",
    "\n",
    "# Turn off axes for cleaner visualization (optional)\n",
    "ax.axis('off')\n",
    "\n",
    "# Adjust layout (optional, might not be needed with one subplot)\n",
    "plt.tight_layout()\n",
    "\n",
    "# Display the plot\n",
    "plt.show()"
   ]
  },
  {
   "cell_type": "markdown",
   "id": "523803b7",
   "metadata": {},
   "source": [
    "# 2) Model\n",
    "\n",
    "Reference code: [VASANT VOHRA](https://www.kaggle.com/code/vasantvohra1/transfer-learning-using-mobilenet)\n",
    "\n",
    "There are three pre-trained models that are good to start off with for image classification:\n",
    "* VGG16\n",
    "* ResNet50\n",
    "* Inception V3\n",
    "\n",
    "However, my dataset is small. Therefore, I chose to use MobileNet as these models are used for larger datasets."
   ]
  },
  {
   "cell_type": "code",
   "execution_count": 66,
   "id": "5480ad05",
   "metadata": {},
   "outputs": [],
   "source": [
    "model = tf.keras.applications.MobileNet(\n",
    "    input_shape=(128,128,3),\n",
    "    alpha=1.0,\n",
    "    depth_multiplier=1,\n",
    "    dropout=0.001,\n",
    "    include_top=True,\n",
    "    weights=None,\n",
    "    input_tensor=None,\n",
    "    pooling=None,\n",
    "    classes=2,\n",
    "    classifier_activation='softmax'\n",
    ")"
   ]
  }
 ],
 "metadata": {
  "kernelspec": {
   "display_name": "Python 3 (ipykernel)",
   "language": "python",
   "name": "python3"
  },
  "language_info": {
   "codemirror_mode": {
    "name": "ipython",
    "version": 3
   },
   "file_extension": ".py",
   "mimetype": "text/x-python",
   "name": "python",
   "nbconvert_exporter": "python",
   "pygments_lexer": "ipython3",
   "version": "3.10.9"
  }
 },
 "nbformat": 4,
 "nbformat_minor": 5
}
